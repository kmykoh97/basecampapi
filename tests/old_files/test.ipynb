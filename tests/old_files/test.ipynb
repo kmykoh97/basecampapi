{
 "cells": [
  {
   "cell_type": "code",
   "execution_count": 5,
   "id": "3dfc3008-8b24-4d5f-98c2-41c74c7f8dc7",
   "metadata": {},
   "outputs": [],
   "source": [
    "import requests\n",
    "import os\n",
    "import datetime\n",
    "import json"
   ]
  },
  {
   "cell_type": "code",
   "execution_count": 3,
   "id": "60a231ec-7273-49a4-81f4-3511e076f9d5",
   "metadata": {},
   "outputs": [],
   "source": [
    "def get_access_token():\n",
    "    client_id = os.environ[\"BASECAMP_CLIENT_ID\"]\n",
    "    client_secret = os.environ[\"BASECAMP_CLIENT_SECRET\"]\n",
    "    redirect_url = os.environ[\"BASECAMP_REDIRECT_URL\"]\n",
    "    refresh_token = os.environ[\"BASECAMP_REFRESH_TOKEN\"]\n",
    "    \n",
    "    refresh_token_url = f\"https://launchpad.37signals.com/authorization/token?type=refresh&refresh_token={refresh_token}&client_id={client_id}&redirect_uri={redirect_url}&client_secret={client_secret}\"\n",
    "    access_token = requests.post(refresh_token_url ).json()['access_token']\n",
    "    return access_token"
   ]
  },
  {
   "cell_type": "code",
   "execution_count": 6,
   "id": "0501106a-b853-40d9-813d-63d2d0b3f7d0",
   "metadata": {},
   "outputs": [],
   "source": [
    "ACCOUNT_ID = \"3694081\"\n",
    "BASE_URL = f\"https://3.basecampapi.com/{account_id}\"\n",
    "project_id = \"######\" # Enter project id\n",
    "message_board_id = \"######\" # Enter message board id"
   ]
  },
  {
   "cell_type": "code",
   "execution_count": 7,
   "id": "de5fc923-5fd0-4f05-b51e-a33b78a52108",
   "metadata": {},
   "outputs": [],
   "source": [
    "def get_sgid(path):\n",
    "    attachments_url = f\"{base_url}/attachments.json?name={path}\"\n",
    "    file_size = os.path.getsize(path)\n",
    "    img_headers = {\n",
    "        'Authorization': 'Bearer '+ get_access_token(),\n",
    "        \"Content-Type\": \"image/png\",\n",
    "        \"Content-Length\": str(file_size)\n",
    "        }\n",
    "    \n",
    "    with open(path, \"rb\") as img_content:\n",
    "        image_sgid = requests.post(attachments_url, headers=img_headers, data=img_content).json()['attachable_sgid']\n",
    "        \n",
    "    return image_sgid"
   ]
  },
  {
   "cell_type": "code",
   "execution_count": 8,
   "id": "c7cc8e6c-fefd-4397-8487-7ec04078b1e7",
   "metadata": {},
   "outputs": [],
   "source": [
    "class metrics:\n",
    "    date = datetime.date.today() - datetime.timedelta(1)\n",
    "    day_of_month = date.day\n",
    "    year_month = date.strftime('%B %Y')\n",
    "    bc_post_name = f\"Daily Metrics - {year_month}\""
   ]
  },
  {
   "cell_type": "code",
   "execution_count": 11,
   "id": "9843637a-a520-46b9-8a32-091096fb498b",
   "metadata": {},
   "outputs": [],
   "source": [
    "def create_bc_post():\n",
    "    url = f\"{base_url}/buckets/{project_id}/message_boards/{message_board_id}/messages.json\"\n",
    "    headers = {\n",
    "        \"Authorization\": \"Bearer \" + get_access_token(),\n",
    "        \"Content-Type\": \"application/json\"\n",
    "    }\n",
    "    \n",
    "    content = \"<p><strong>Daily metrics for \"+metrics.year_month+\" will be posted in the comment section.</strong></p><br> \\\n",
    "    <p>Explore metrics in the <a href='https://ed8a34f1.us2a.app.preset.io/superset/dashboard/p/GRypvmnXzMl/'>KPI Dashboard</a>.<p> \\\n",
    "    <p>Learn about metrics on the <a href='https://docs.fishingbooker.org/data/daily-metrics'>documentation page</a>.</p><br> \\\n",
    "    <p>🚀 <em><span style='color: rgb(17, 138, 15);'>Boosts</span> are encouraged!</em></p> \\\n",
    "    <p>💬 <em><span style='color: rgb(207, 0, 0);'>Comment</span> only if necessary to avoid spamming everyone in the company.</em></p><br> \\\n",
    "    <p><em>If you notice something wrong with the metrics, you can ping me or write in Data team's <a href='https://3.basecamp.com/3694081/buckets/22348834/todolists/5214969729'>Inbox</a> or <a href='https://3.basecamp.com/3694081/buckets/22348834/chats/3779965909'>Campfire</a>.</em></p>\"\n",
    "    \n",
    "    data = str('{\"subject\": \"'+metrics.bc_post_name+'\", \"content\": \"'+content+'\", \"status\": \"active\"}').encode()\n",
    "\n",
    "    requests.post(url, headers=headers, data=data)"
   ]
  },
  {
   "cell_type": "code",
   "execution_count": 10,
   "id": "ed672f81-c221-40ef-bf01-1d60f43c64d5",
   "metadata": {},
   "outputs": [],
   "source": [
    "def post_metrics():\n",
    "    message_board_url = f\"{base_url}/buckets/{project_id}/message_boards/{message_board_id}/messages.json\"\n",
    "    headers = {\n",
    "        \"Authorization\": \"Bearer \" + get_access_token(),\n",
    "        \"Content-Type\": \"application/json\"\n",
    "    }\n",
    "    messages = requests.get(message_board_url, headers=headers).json()\n",
    "    \n",
    "    if not(any(msg['subject'] == metrics.bc_post_name for msg in messages)):\n",
    "        create_bc_post()\n",
    "        messages = requests.get(message_board_url, headers=headers).json()\n",
    "        \n",
    "    for msg in messages:\n",
    "        if msg['subject'] == metrics.bc_post_name:\n",
    "            message_id = msg['id']\n",
    "    \n",
    "    comment_url = f\"{base_url}/buckets/{project_id}/recordings/{message_id}/comments.json\"\n",
    "    \n",
    "    images = []\n",
    "    for file in sorted(os.listdir(\"/tmp/images\")):\n",
    "        if file.endswith(\".png\"):\n",
    "            image = {\n",
    "                \"name\": os.path.basename(file),\n",
    "                \"sgid\": get_sgid(f\"/tmp/images/{file}\")\n",
    "            }\n",
    "            images.append(image)\n",
    "    \n",
    "    content = ''\n",
    "    for image in images:\n",
    "        content += \"<bc-attachment sgid='\"+image['sgid']+\"'></bc-attachment> \\\n",
    "            <br> \\\n",
    "            \"\n",
    "    content += \"- <a href='https://ed8a34f1.us2a.app.preset.io/superset/dashboard/p/GRypvmnXzMl/'>KPI Dashboard</a> <br> \\\n",
    "        - <a href='https://datastudio.google.com/reporting/8c88333b-a69b-47ae-8dcd-9163a8732b09'>Additional metrics dashboard</a> <br> \\\n",
    "        - <a href='https://docs.fishingbooker.org/data/daily-metrics'>Metrics documentation</a> <br><br> \\\n",
    "        <em style='color: rgb(102, 102, 102);'>This is an automated post. If you notice something wrong with the metrics, you can ping me or write in Data team's <a href='https://3.basecamp.com/3694081/buckets/22348834/todolists/5214969729'>Inbox</a> or <a href='https://3.basecamp.com/3694081/buckets/22348834/chats/3779965909'>Campfire</a>.</em>\"\n",
    "    \n",
    "    requests.post(comment_url, headers=headers, data='{\"content\": \"'+content+'\"}')"
   ]
  },
  {
   "cell_type": "code",
   "execution_count": null,
   "id": "15499db2-ddd8-46fa-bc82-58cadb26c427",
   "metadata": {},
   "outputs": [],
   "source": []
  }
 ],
 "metadata": {
  "kernelspec": {
   "display_name": "Python 3 (ipykernel)",
   "language": "python",
   "name": "python3"
  },
  "language_info": {
   "codemirror_mode": {
    "name": "ipython",
    "version": 3
   },
   "file_extension": ".py",
   "mimetype": "text/x-python",
   "name": "python",
   "nbconvert_exporter": "python",
   "pygments_lexer": "ipython3",
   "version": "3.10.2"
  }
 },
 "nbformat": 4,
 "nbformat_minor": 5
}
