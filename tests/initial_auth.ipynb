{
 "cells": [
  {
   "cell_type": "code",
   "execution_count": 1,
   "id": "ff91cb02-f844-4fd3-ba82-810dce0bbff7",
   "metadata": {},
   "outputs": [],
   "source": [
    "import requests"
   ]
  },
  {
   "cell_type": "code",
   "execution_count": 5,
   "id": "044d1481-3c69-448a-b103-3808444ce1e0",
   "metadata": {},
   "outputs": [
    {
     "name": "stdout",
     "output_type": "stream",
     "text": [
      "https://launchpad.37signals.com/authorization/new?type=web_server&client_id=ddc691c9f00f8b7884831b96e46773de9bc04b96&redirect_uri=https://www.google.com/\n"
     ]
    }
   ],
   "source": [
    "client_id = \"ddc691c9f00f8b7884831b96e46773de9bc04b96\"\n",
    "client_secret = \"662f2d07a9259780144735ea390c74532470923a\"\n",
    "redirect_uri = \"https://www.google.com/\"\n",
    "refresh_token = \"BAhbB0kiAbB7ImNsaWVudF9pZCI6ImRkYzY5MWM5ZjAwZjhiNzg4NDgzMWI5NmU0Njc3M2RlOWJjMDRiOTYiLCJleHBpcmVzX2F0IjoiMjAzMi0xMi0yMVQxMDowODo0M1oiLCJ1c2VyX2lkcyI6WzQ3NDEzNTYxXSwidmVyc2lvbiI6MSwiYXBpX2RlYWRib2x0IjoiMjAxNzg1ZGI0OTNmMzA1MzBmYzQ1YThkNTJmM2QwZDQifQY6BkVUSXU6CVRpbWUNqi4hwGs/vCIJOg1uYW5vX251bWkCOgI6DW5hbm9fZGVuaQY6DXN1Ym1pY3JvIgZXOgl6b25lSSIIVVRDBjsARg==--51c71af8575cdb5870a74d71bfdab636c62974a3\"\n",
    "\n",
    "url = f\"https://launchpad.37signals.com/authorization/new?type=web_server&client_id={client_id}&redirect_uri={redirect_uri}\"\n",
    "print(url)"
   ]
  },
  {
   "cell_type": "code",
   "execution_count": 3,
   "id": "dbf2825a-4b93-4a25-9342-2d829e249986",
   "metadata": {},
   "outputs": [],
   "source": [
    "verification_code = \"392a3558\""
   ]
  },
  {
   "cell_type": "code",
   "execution_count": 4,
   "id": "629b9bbe-9f6c-47f0-af8a-1b5b5a7d6912",
   "metadata": {},
   "outputs": [
    {
     "name": "stdout",
     "output_type": "stream",
     "text": [
      "BAhbB0kiAbB7ImNsaWVudF9pZCI6ImRkYzY5MWM5ZjAwZjhiNzg4NDgzMWI5NmU0Njc3M2RlOWJjMDRiOTYiLCJleHBpcmVzX2F0IjoiMjAzMi0xMi0yMVQxMDowODo0M1oiLCJ1c2VyX2lkcyI6WzQ3NDEzNTYxXSwidmVyc2lvbiI6MSwiYXBpX2RlYWRib2x0IjoiMjAxNzg1ZGI0OTNmMzA1MzBmYzQ1YThkNTJmM2QwZDQifQY6BkVUSXU6CVRpbWUNqi4hwGs/vCIJOg1uYW5vX251bWkCOgI6DW5hbm9fZGVuaQY6DXN1Ym1pY3JvIgZXOgl6b25lSSIIVVRDBjsARg==--51c71af8575cdb5870a74d71bfdab636c62974a3\n"
     ]
    }
   ],
   "source": [
    "url = f\"https://launchpad.37signals.com/authorization/token?type=web_server&client_id={client_id}&redirect_uri={redirect_uri}&client_secret={client_secret}&code={verification_code}\"\n",
    "response = requests.post(url)\n",
    "refresh_token = response.json()[\"refresh_token\"]\n",
    "print(refresh_token)"
   ]
  },
  {
   "cell_type": "code",
   "execution_count": null,
   "id": "6e1e9d85-ac5b-43ea-bd2e-9c5a47bb9b3b",
   "metadata": {},
   "outputs": [],
   "source": []
  }
 ],
 "metadata": {
  "kernelspec": {
   "display_name": "Python 3 (ipykernel)",
   "language": "python",
   "name": "python3"
  },
  "language_info": {
   "codemirror_mode": {
    "name": "ipython",
    "version": 3
   },
   "file_extension": ".py",
   "mimetype": "text/x-python",
   "name": "python",
   "nbconvert_exporter": "python",
   "pygments_lexer": "ipython3",
   "version": "3.10.2"
  }
 },
 "nbformat": 4,
 "nbformat_minor": 5
}
