{
 "cells": [
  {
   "cell_type": "code",
   "execution_count": 1,
   "id": "28974472-2aed-4c69-9233-c8f76bf56c1d",
   "metadata": {},
   "outputs": [],
   "source": [
    "import requests"
   ]
  },
  {
   "cell_type": "code",
   "execution_count": 38,
   "id": "2b6e4b3d-cd00-4de0-b016-926037670c9b",
   "metadata": {},
   "outputs": [],
   "source": [
    "client_id = \"ddc691c9f00f8b7884831b96e46773de9bc04b96\"\n",
    "client_secret = \"662f2d07a9259780144735ea390c74532470923a\"\n",
    "redirect_uri = \"https://www.google.com/\"\n",
    "refresh_token = \"BAhbB0kiAbB7ImNsaWVudF9pZCI6ImRkYzY5MWM5ZjAwZjhiNzg4NDgzMWI5NmU0Njc3M2RlOWJjMDRiOTYiLCJleHBpcmVzX2F0IjoiMjAzMi0xMi0xNlQxNTo0Nzo0MFoiLCJ1c2VyX2lkcyI6WzM4Mjc4NDE4XSwidmVyc2lvbiI6MSwiYXBpX2RlYWRib2x0IjoiNGE1NjRiNTQ5YWE0NDc2N2NmYjcwZWY4NTdjMTg3MGMifQY6BkVUSXU6CVRpbWUNDy4hwFbhjL4JOg1uYW5vX251bWkwOg1uYW5vX2RlbmkGOg1zdWJtaWNybyIHBDA6CXpvbmVJIghVVEMGOwBG--8abee4909cf39012f0c6050ff776551f01fbdda4\""
   ]
  },
  {
   "cell_type": "code",
   "execution_count": 39,
   "id": "2ba075aa-b1f2-4770-95c7-ac5708ef827c",
   "metadata": {},
   "outputs": [],
   "source": [
    "credentials = {\n",
    "    \"client_id\": \"ddc691c9f00f8b7884831b96e46773de9bc04b96\",\n",
    "    \"client_secret\": \"662f2d07a9259780144735ea390c74532470923a\",\n",
    "    \"redirect_url\": \"https://www.google.com/\",\n",
    "    \"refresh_token\": \"BAhbB0kiAbB7ImNsaWVudF9pZCI6ImRkYzY5MWM5ZjAwZjhiNzg4NDgzMWI5NmU0Njc3M2RlOWJjMDRiOTYiLCJleHBpcmVzX2F0IjoiMjAzMi0xMi0xNlQxNTo0Nzo0MFoiLCJ1c2VyX2lkcyI6WzM4Mjc4NDE4XSwidmVyc2lvbiI6MSwiYXBpX2RlYWRib2x0IjoiNGE1NjRiNTQ5YWE0NDc2N2NmYjcwZWY4NTdjMTg3MGMifQY6BkVUSXU6CVRpbWUNDy4hwFbhjL4JOg1uYW5vX251bWkwOg1uYW5vX2RlbmkGOg1zdWJtaWNybyIHBDA6CXpvbmVJIghVVEMGOwBG--8abee4909cf39012f0c6050ff776551f01fbdda4\",\n",
    "    \"basecamp_account_id\": \"5525374\"\n",
    "}"
   ]
  },
  {
   "cell_type": "code",
   "execution_count": 40,
   "id": "577fca6f-3063-4754-897d-7129dbdd2b89",
   "metadata": {},
   "outputs": [],
   "source": [
    "def authenticate(credentials):\n",
    "    client_id = credentials['client_id']\n",
    "    client_secret = credentials[\"client_secret\"]\n",
    "    redirect_uri = credentials[\"redirect_url\"]\n",
    "    refresh_token = credentials[\"refresh_token\"]\n",
    "    basecamp_account_id = credentials[\"basecamp_account_id\"]\n",
    "    refresh_token_url = f\"https://launchpad.37signals.com/authorization/token?type=refresh&refresh_token={refresh_token}&client_id={client_id}&redirect_uri={redirect_uri}&client_secret={client_secret}\"\n",
    "    session = {\n",
    "        \"access_token\": requests.post(refresh_token_url).json()['access_token'],\n",
    "        \"base_url\": f\"https://3.basecampapi.com/{basecamp_account_id}\"\n",
    "    }\n",
    "    return session"
   ]
  },
  {
   "cell_type": "code",
   "execution_count": 45,
   "id": "198fcf1b-4da5-4cf8-990a-5e856b94b4ad",
   "metadata": {},
   "outputs": [],
   "source": [
    "session2 = authenticate(credentials=credentials)"
   ]
  },
  {
   "cell_type": "code",
   "execution_count": 46,
   "id": "46c00b1f-e1ed-481f-b49b-8fb2b3086710",
   "metadata": {},
   "outputs": [
    {
     "data": {
      "text/plain": [
       "'BAhbB0kiAbB7ImNsaWVudF9pZCI6ImRkYzY5MWM5ZjAwZjhiNzg4NDgzMWI5NmU0Njc3M2RlOWJjMDRiOTYiLCJleHBpcmVzX2F0IjoiMjAyMi0xMi0zMFQxNjowNDo0M1oiLCJ1c2VyX2lkcyI6WzM4Mjc4NDE4XSwidmVyc2lvbiI6MSwiYXBpX2RlYWRib2x0IjoiNGE1NjRiNTQ5YWE0NDc2N2NmYjcwZWY4NTdjMTg3MGMifQY6BkVUSXU6CVRpbWUN0K8ewHgduBIJOg1uYW5vX251bWkCuQI6DW5hbm9fZGVuaQY6DXN1Ym1pY3JvIgdpcDoJem9uZUkiCFVUQwY7AEY=--8212f9c24df5f40a20cc1a6e63b79055af498214'"
      ]
     },
     "execution_count": 46,
     "metadata": {},
     "output_type": "execute_result"
    }
   ],
   "source": [
    "session2['access_token']"
   ]
  },
  {
   "cell_type": "code",
   "execution_count": 43,
   "id": "fa057b85-a6aa-4135-ab5e-a16c8053c7bc",
   "metadata": {},
   "outputs": [],
   "source": [
    "headers = {\n",
    "    'Authorization': 'Bearer '+ session['access_token']\n",
    "}"
   ]
  },
  {
   "cell_type": "code",
   "execution_count": 44,
   "id": "651f83b1-2d60-45e2-ac81-a40e3abb64bc",
   "metadata": {},
   "outputs": [
    {
     "data": {
      "text/plain": [
       "b'{\"expires_at\":\"2022-12-30T16:02:38.000Z\",\"identity\":{\"id\":18378779,\"email_address\":\"marko.stefanovic@fishingbooker.com\",\"first_name\":\"Marko\",\"last_name\":\"Stefanovic\"},\"accounts\":[{\"id\":3694081,\"name\":\"FishingBooker, Inc.\",\"product\":\"bc3\",\"href\":\"https://3.basecampapi.com/3694081\",\"app_href\":\"https://3.basecamp.com/3694081\",\"hidden\":false}]}'"
      ]
     },
     "execution_count": 44,
     "metadata": {},
     "output_type": "execute_result"
    }
   ],
   "source": [
    "requests.get(\"https://launchpad.37signals.com/authorization.json\", headers=headers).content"
   ]
  },
  {
   "cell_type": "code",
   "execution_count": null,
   "id": "25f44c30-f7c6-405f-b283-b501c3a1bc38",
   "metadata": {},
   "outputs": [],
   "source": []
  }
 ],
 "metadata": {
  "kernelspec": {
   "display_name": "Python 3 (ipykernel)",
   "language": "python",
   "name": "python3"
  },
  "language_info": {
   "codemirror_mode": {
    "name": "ipython",
    "version": 3
   },
   "file_extension": ".py",
   "mimetype": "text/x-python",
   "name": "python",
   "nbconvert_exporter": "python",
   "pygments_lexer": "ipython3",
   "version": "3.10.2"
  }
 },
 "nbformat": 4,
 "nbformat_minor": 5
}
