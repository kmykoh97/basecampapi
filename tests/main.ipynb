{
 "cells": [
  {
   "cell_type": "code",
   "execution_count": 26,
   "id": "e40a7fc7-9ed3-4975-8408-c78feb943bfb",
   "metadata": {},
   "outputs": [],
   "source": [
    "import requests\n",
    "import os\n",
    "import datetime\n",
    "import json\n",
    "from mimetypes import MimeTypes"
   ]
  },
  {
   "cell_type": "code",
   "execution_count": 27,
   "id": "65de956d-e7bb-405e-808f-28c34cf9917f",
   "metadata": {},
   "outputs": [],
   "source": [
    "import pandas as pd"
   ]
  },
  {
   "cell_type": "code",
   "execution_count": 28,
   "id": "a3be981d-0aae-4762-b7c0-fd6f36618c84",
   "metadata": {},
   "outputs": [],
   "source": [
    "# Fishingbooker credentials (account ID 3694081)\n",
    "credentials = {\n",
    "    \"client_id\": os.environ[\"BASECAMP_CLIENT_ID\"],\n",
    "    \"client_secret\": os.environ[\"BASECAMP_CLIENT_SECRET\"],\n",
    "    \"redirect_uri\": os.environ[\"BASECAMP_REDIRECT_URL\"],\n",
    "    \"refresh_token\": os.environ[\"BASECAMP_REFRESH_TOKEN\"]\n",
    "}"
   ]
  },
  {
   "cell_type": "code",
   "execution_count": 29,
   "id": "51865d2d-dcdc-4203-a98d-4ad43e437e7a",
   "metadata": {},
   "outputs": [],
   "source": [
    "# Private credentials (account ID 5525374)\n",
    "credentials_priv = {\n",
    "    \"client_id\": \"ddc691c9f00f8b7884831b96e46773de9bc04b96\",\n",
    "    \"client_secret\": \"662f2d07a9259780144735ea390c74532470923a\",\n",
    "    \"redirect_uri\": \"https://www.google.com/\",\n",
    "    \"refresh_token\": \"BAhbB0kiAbB7ImNsaWVudF9pZCI6ImRkYzY5MWM5ZjAwZjhiNzg4NDgzMWI5NmU0Njc3M2RlOWJjMDRiOTYiLCJleHBpcmVzX2F0IjoiMjAzMi0xMi0yMVQxMDowODo0M1oiLCJ1c2VyX2lkcyI6WzQ3NDEzNTYxXSwidmVyc2lvbiI6MSwiYXBpX2RlYWRib2x0IjoiMjAxNzg1ZGI0OTNmMzA1MzBmYzQ1YThkNTJmM2QwZDQifQY6BkVUSXU6CVRpbWUNqi4hwGs/vCIJOg1uYW5vX251bWkCOgI6DW5hbm9fZGVuaQY6DXN1Ym1pY3JvIgZXOgl6b25lSSIIVVRDBjsARg==--51c71af8575cdb5870a74d71bfdab636c62974a3\"\n",
    "}"
   ]
  },
  {
   "cell_type": "code",
   "execution_count": 30,
   "id": "9c6482db-095b-4661-a272-54dde32d6c33",
   "metadata": {},
   "outputs": [],
   "source": [
    "class Basecamp:\n",
    "    \n",
    "    def __init__(self, account_id, credentials):\n",
    "        self.account_id = account_id\n",
    "        self.credentials = credentials\n",
    "        self.client_id = credentials[\"client_id\"]\n",
    "        self.client_secret = credentials[\"client_secret\"]\n",
    "        self.redirect_uri = credentials[\"redirect_uri\"]\n",
    "        self.refresh_token = credentials[\"refresh_token\"]\n",
    "        self.basecamp_account_id = account_id\n",
    "        self.access_url = f\"https://launchpad.37signals.com/authorization/token?type=refresh&refresh_token={self.refresh_token}&client_id={self.client_id}&redirect_uri={self.redirect_uri}&client_secret={self.client_secret}\"\n",
    "        self.access_token = requests.post(self.access_url).json()['access_token']\n",
    "        self.base_url = f\"https://3.basecampapi.com/{self.basecamp_account_id}\"\n",
    "        self.files = []\n",
    "        \n",
    "    def upload_file(self, path):\n",
    "        attachments_url = f\"{self.base_url}/attachments.json?name={path}\"\n",
    "        file_size = os.path.getsize(path)\n",
    "        mime = MimeTypes().guess_type(path)[0]\n",
    "        headers = {\n",
    "            'Authorization': 'Bearer '+ self.access_token,\n",
    "            \"Content-Type\": mime,\n",
    "            \"Content-Length\": str(file_size)\n",
    "            }\n",
    "\n",
    "        with open(path, \"rb\") as content:\n",
    "            sgid = requests.post(attachments_url, headers=headers, data=content).json()['attachable_sgid']\n",
    "        file = {\n",
    "            \"filename\": os.path.basename(path),\n",
    "            \"file_size\": str(file_size),\n",
    "            \"content-type\": mime,\n",
    "            \"sgid\": sgid\n",
    "        }\n",
    "        self.files.append(file)"
   ]
  },
  {
   "cell_type": "code",
   "execution_count": 31,
   "id": "63d2a96e-3f87-4168-985c-92772787a8e9",
   "metadata": {},
   "outputs": [],
   "source": [
    "bc = Basecamp(account_id=5525374, credentials=credentials_priv)"
   ]
  },
  {
   "cell_type": "code",
   "execution_count": 32,
   "id": "ddf691e9-3d0d-4edf-91de-0c3128d5b8fc",
   "metadata": {},
   "outputs": [],
   "source": [
    "class Campfire:\n",
    "        \n",
    "    def __init__(self, project_id, campfire_id, session):\n",
    "        self.project_id = project_id\n",
    "        self.campfire_id = campfire_id\n",
    "        self.files = session.files\n",
    "        self.access_token = session.access_token\n",
    "        self.base_url = session.base_url\n",
    "        self.headers = {\n",
    "            'Authorization': 'Bearer '+ self.access_token,\n",
    "            \"Content-Type\": \"application/json\"\n",
    "        }        \n",
    "\n",
    "    def info(self):\n",
    "        get_campfire_url = f\"{self.base_url}/buckets/{self.project_id}/chats/{self.campfire_id}.json\"\n",
    "        return requests.get(get_campfire_url, headers=self.headers).json()\n",
    "    \n",
    "    def get_lines(self):\n",
    "        get_lines_url = f\"{self.base_url}/buckets/{self.project_id}/chats/{self.campfire_id}/lines.json\"\n",
    "        return requests.get(get_lines_url, headers=self.headers).json()\n",
    "    \n",
    "    def write(self, content):\n",
    "        write_url = f\"{self.base_url}/buckets/{self.project_id}/chats/{self.campfire_id}/lines.json\"\n",
    "        requests.post(write_url, headers=self.headers, data='{\"content\": \"'+content+'\"}')\n",
    "        print(\"Sent to campfire successfully!\")"
   ]
  },
  {
   "cell_type": "code",
   "execution_count": 58,
   "id": "ad51c2af-43d7-45ae-9bea-488b6ed74b31",
   "metadata": {},
   "outputs": [],
   "source": [
    "#Testing data\n",
    "project_id = 30698115\n",
    "campfire_id = 5662447716\n",
    "message_board_id = 5662447711\n",
    "message_id = 5662455037\n",
    "\n",
    "headers = {\n",
    "    'Authorization': 'Bearer '+ bc.access_token,\n",
    "    \"Content-Type\": \"application/json\"\n",
    "}"
   ]
  },
  {
   "cell_type": "code",
   "execution_count": 59,
   "id": "6f653a20-cb85-4e9a-8f46-55dcf21577ce",
   "metadata": {},
   "outputs": [
    {
     "data": {
      "text/plain": [
       "'https://3.basecampapi.com/5525374/buckets/30698115/messages/5662455037.json'"
      ]
     },
     "execution_count": 59,
     "metadata": {},
     "output_type": "execute_result"
    }
   ],
   "source": [
    "get_message_url = f\"{bc.base_url}/buckets/{project_id}/messages/{message_id}.json\"\n",
    "get_message_url"
   ]
  },
  {
   "cell_type": "code",
   "execution_count": 60,
   "id": "698196c3-5227-4868-844e-d0b6683226ab",
   "metadata": {},
   "outputs": [
    {
     "data": {
      "text/plain": [
       "{'id': 5662455037,\n",
       " 'status': 'active',\n",
       " 'visible_to_clients': False,\n",
       " 'created_at': '2022-12-21T09:52:45.926Z',\n",
       " 'updated_at': '2022-12-21T09:53:39.044Z',\n",
       " 'title': 'test',\n",
       " 'inherits_status': True,\n",
       " 'type': 'Message',\n",
       " 'url': 'https://3.basecampapi.com/5525374/buckets/30698115/messages/5662455037.json',\n",
       " 'app_url': 'https://3.basecamp.com/5525374/buckets/30698115/messages/5662455037',\n",
       " 'bookmark_url': 'https://3.basecamp.com/5525374/my/bookmarks/BAh7CEkiCGdpZAY6BkVUSSIuZ2lkOi8vYmMzL1JlY29yZGluZy81NjYyNDU1MDM3P2V4cGlyZXNfaW4GOwBUSSIMcHVycG9zZQY7AFRJIg1yZWFkYWJsZQY7AFRJIg9leHBpcmVzX2F0BjsAVDA=--87d169e0153a6d0f85ee5d1ad0cda043acd0cd05',\n",
       " 'subscription_url': 'https://3.basecamp.com/5525374/buckets/30698115/recordings/5662455037/subscription',\n",
       " 'comments_count': 1,\n",
       " 'comments_url': 'https://3.basecampapi.com/5525374/buckets/30698115/recordings/5662455037/comments.json',\n",
       " 'parent': {'id': 5662447711,\n",
       "  'title': 'Message Board',\n",
       "  'type': 'Message::Board',\n",
       "  'url': 'https://3.basecampapi.com/5525374/buckets/30698115/message_boards/5662447711.json',\n",
       "  'app_url': 'https://3.basecamp.com/5525374/buckets/30698115/message_boards/5662447711'},\n",
       " 'bucket': {'id': 30698115, 'name': 'testing', 'type': 'Project'},\n",
       " 'creator': {'id': 42358205,\n",
       "  'attachable_sgid': 'BAh7CEkiCGdpZAY6BkVUSSIpZ2lkOi8vYmMzL1BlcnNvbi80MjM1ODIwNT9leHBpcmVzX2luBjsAVEkiDHB1cnBvc2UGOwBUSSIPYXR0YWNoYWJsZQY7AFRJIg9leHBpcmVzX2F0BjsAVDA=--6feb239505ad315701943e5795b8174fd631c3e5',\n",
       "  'name': 'Marko',\n",
       "  'email_address': 'marko011rs@gmail.com',\n",
       "  'personable_type': 'User',\n",
       "  'title': None,\n",
       "  'bio': None,\n",
       "  'location': None,\n",
       "  'created_at': '2022-12-16T14:51:00.031Z',\n",
       "  'updated_at': '2022-12-16T14:51:00.047Z',\n",
       "  'admin': True,\n",
       "  'owner': True,\n",
       "  'client': False,\n",
       "  'employee': True,\n",
       "  'time_zone': 'Europe/Amsterdam',\n",
       "  'avatar_url': 'https://bc3-production-assets-cdn.basecamp-static.com/5525374/people/BAhpBL1VhgI=--e5ea21c3dcb1eef2ef746fe4a96a6e5835590795/avatar?v=1',\n",
       "  'company': {'id': 3260798, 'name': 'marko011rs'},\n",
       "  'can_manage_projects': True,\n",
       "  'can_manage_people': True},\n",
       " 'content': '<div>test</div>',\n",
       " 'subject': 'test'}"
      ]
     },
     "execution_count": 60,
     "metadata": {},
     "output_type": "execute_result"
    }
   ],
   "source": [
    "requests.get(get_message_url, headers=headers).json()"
   ]
  },
  {
   "cell_type": "code",
   "execution_count": 98,
   "id": "31a869e5-0825-4590-9044-acd3cbaa1e6a",
   "metadata": {},
   "outputs": [],
   "source": [
    "class MessageBoard:\n",
    "    \n",
    "    def __init__(self, project_id, message_board_id, session):\n",
    "        self.project_id = project_id\n",
    "        self.message_board_id = message_board_id\n",
    "        self.files = session.files\n",
    "        self.access_token = session.access_token\n",
    "        self.base_url = session.base_url\n",
    "        self.headers = {\n",
    "            'Authorization': 'Bearer '+ self.access_token,\n",
    "            \"Content-Type\": \"application/json\"\n",
    "        }\n",
    "    \n",
    "    def get_all_messages(self):\n",
    "        get_all_messages_url = f\"{self.base_url}/buckets/{self.project_id}/message_boards/{self.message_board_id}/messages.json\"\n",
    "        return requests.get(get_all_messages_url, headers=self.headers).json()\n",
    "    \n",
    "    def get_message(self, message_id):\n",
    "        self.message_id = message_id\n",
    "        get_message_url = f\"{self.base_url}/buckets/{self.project_id}/messages/{self.message_id}.json\"\n",
    "        return requests.get(get_message_url, headers=self.headers).json()\n",
    "    \n",
    "    def create_message(self, subject, content):\n",
    "        self.subject = subject\n",
    "        self.content = content\n",
    "        create_message_url = f\"{self.base_url}/buckets/{self.project_id}/message_boards/{self.message_board_id}/messages.json\"\n",
    "        requests.post(create_message_url, headers=self.headers, data=str('{\"subject\": \"'+self.subject+'\", \"content\": \"'+self.content+'\", \"status\": \"active\"}').encode())\n",
    "        print(\"Message created successfully!\")\n",
    "    \n",
    "    def update_message(self, message_id, subject, content):\n",
    "        update_message_url = f\"{self.base_url}/buckets/{self.project_id}/messages/{message_id}.json\"\n",
    "        requests.put(update_message_url, headers=self.headers, data=str('{\"subject\": \"'+subject+'\", \"content\": \"'+content+'\"}').encode())\n",
    "        print(\"Message updated successfully!\")\n",
    "        \n",
    "    def get_all_comments(self, message_id):\n",
    "        get_all_comments_url = f\"{self.base_url}/buckets/{self.project_id}/recordings/{message_id}/comments.json\"\n",
    "        return requests.get(get_all_comments_url, headers=self.headers).json()\n",
    "    \n",
    "    def get_comment(self, comment_id):\n",
    "        self.comment_id = comment_id\n",
    "        get_comment_url = f\"{self.base_url}/buckets/{self.project_id}/comments/{self.comment_id}.json\"\n",
    "        return requests.get(get_comment_url, headers=self.headers).json()\n",
    "    \n",
    "    def create_comment(self, message_id, content):\n",
    "        create_comment_url = f\"{self.base_url}/buckets/{self.project_id}/recordings/{message_id}/comments.json\"\n",
    "        requests.post(create_comment_url, headers=self.headers, data='{\"content\": \"'+content+'\"}')\n",
    "        print(\"Comment created successfully!\")\n",
    "    \n",
    "    def update_comment(self, comment_id, content):\n",
    "        update_comment_url = f\"{self.base_url}/buckets/{self.project_id}/comments/{comment_id}.json\"\n",
    "        requests.put(update_comment_url, headers=self.headers, data='{\"content\": \"'+content+'\"}')\n",
    "        print(\"Comment updated successfully!\")"
   ]
  },
  {
   "cell_type": "code",
   "execution_count": 99,
   "id": "e8d06a0b-00bc-41b8-9184-a874f4e5bf76",
   "metadata": {},
   "outputs": [],
   "source": [
    "mb = MessageBoard(project_id=project_id, message_board_id=message_board_id, session=bc)"
   ]
  },
  {
   "cell_type": "code",
   "execution_count": 108,
   "id": "2251e4f2-9e95-4b64-aaab-cfcf963aa7a2",
   "metadata": {},
   "outputs": [
    {
     "name": "stdout",
     "output_type": "stream",
     "text": [
      "Comment updated successfully!\n"
     ]
    }
   ],
   "source": [
    "mb.update_comment(comment_id=5663320226, content=\"updated comment\")"
   ]
  },
  {
   "cell_type": "code",
   "execution_count": null,
   "id": "36d6c6df-2cb6-4287-8c9b-b0118ec99996",
   "metadata": {},
   "outputs": [],
   "source": []
  }
 ],
 "metadata": {
  "kernelspec": {
   "display_name": "Python 3 (ipykernel)",
   "language": "python",
   "name": "python3"
  },
  "language_info": {
   "codemirror_mode": {
    "name": "ipython",
    "version": 3
   },
   "file_extension": ".py",
   "mimetype": "text/x-python",
   "name": "python",
   "nbconvert_exporter": "python",
   "pygments_lexer": "ipython3",
   "version": "3.10.2"
  }
 },
 "nbformat": 4,
 "nbformat_minor": 5
}
